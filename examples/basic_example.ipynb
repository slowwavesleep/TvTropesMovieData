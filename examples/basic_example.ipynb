{
 "cells": [
  {
   "cell_type": "code",
   "execution_count": 1,
   "metadata": {},
   "outputs": [],
   "source": [
    "import pandas as pd\n",
    "from collections import Counter\n",
    "from itertools import chain\n",
    "import re"
   ]
  },
  {
   "cell_type": "code",
   "execution_count": 2,
   "metadata": {},
   "outputs": [],
   "source": [
    "data = pd.read_csv(\"https://raw.githubusercontent.com/slowwavesleep/TvTropesMovieData/main/data/tropes_movie_data.csv\")"
   ]
  },
  {
   "cell_type": "code",
   "execution_count": 3,
   "metadata": {},
   "outputs": [],
   "source": [
    "data[\"tropes_list\"] = data.tropes.apply(lambda x: x.split(\"|\"))"
   ]
  },
  {
   "cell_type": "code",
   "execution_count": 4,
   "metadata": {
    "scrolled": false
   },
   "outputs": [
    {
     "name": "stdout",
     "output_type": "stream",
     "text": [
      "Fantasy\n",
      "Adventure\n",
      "Sport\n",
      "History\n",
      "Short\n",
      "News\n",
      "Thriller\n",
      "Sci-Fi\n",
      "War\n",
      "Musical\n",
      "Crime\n",
      "Comedy\n",
      "Horror\n",
      "Mystery\n",
      "Animation\n",
      "Talk-Show\n",
      "Romance\n",
      "Western\n",
      "Action\n",
      "Family\n",
      "Music\n",
      "Biography\n",
      "Drama\n",
      "Film-Noir\n",
      "\\N\n",
      "Adult\n",
      "Documentary\n"
     ]
    }
   ],
   "source": [
    "imdb_genres = data.imdb_genres.apply(lambda x: x.split(\"|\"))\n",
    "unique_imdb_genres = set()\n",
    "for movie_genres in imdb_genres:\n",
    "    unique_imdb_genres.update(movie_genres)\n",
    "    \n",
    "for genre in unique_imdb_genres:\n",
    "    print(genre)"
   ]
  },
  {
   "cell_type": "code",
   "execution_count": 5,
   "metadata": {},
   "outputs": [],
   "source": [
    "def trope_name_with_spaces(name: str) -> str:\n",
    "    return \" \".join(re.split(\"(?=[A-Z])\", name))"
   ]
  },
  {
   "cell_type": "code",
   "execution_count": 6,
   "metadata": {},
   "outputs": [],
   "source": [
    "def top_n_tropes(n: int, genre: str, *, data: pd.DataFrame = data):\n",
    "    assert genre in unique_imdb_genres, \"Genre not found\"\n",
    "    trope_counter = Counter()\n",
    "    genre_tropes = data.loc[data.imdb_genres.str.contains(genre)].tropes_list\n",
    "    trope_counter.update(chain(*genre_tropes))\n",
    "    print(f\"Top {n} {genre} tropes\")\n",
    "    print(25 * \"*\")\n",
    "    for name, count in trope_counter.most_common(n):\n",
    "        print(f\"{trope_name_with_spaces(name)}: {count}\")\n",
    "    print(25 * \"*\")"
   ]
  },
  {
   "cell_type": "code",
   "execution_count": 7,
   "metadata": {},
   "outputs": [
    {
     "name": "stdout",
     "output_type": "stream",
     "text": [
      "Top 10 Comedy tropes\n",
      "*************************\n",
      " Shout Out: 1205\n",
      " Big Bad: 813\n",
      " Running Gag: 811\n",
      " Jerkass: 679\n",
      " Deadpan Snarker: 645\n",
      " Oh Crap: 627\n",
      " Chekhovs Gun: 613\n",
      " Brick Joke: 554\n",
      " Lampshade Hanging: 541\n",
      " The Cameo: 517\n",
      "*************************\n"
     ]
    }
   ],
   "source": [
    "top_n_tropes(10, \"Comedy\")"
   ]
  },
  {
   "cell_type": "code",
   "execution_count": 8,
   "metadata": {},
   "outputs": [
    {
     "name": "stdout",
     "output_type": "stream",
     "text": [
      "Top 10 Drama tropes\n",
      "*************************\n",
      " Bittersweet Ending: 904\n",
      " Shout Out: 895\n",
      " Foreshadowing: 750\n",
      " Title Drop: 703\n",
      " Downer Ending: 678\n",
      " Driven To Suicide: 677\n",
      " Chekhovs Gun: 669\n",
      " Oh Crap: 644\n",
      " Jerkass: 631\n",
      " Deadpan Snarker: 624\n",
      "*************************\n"
     ]
    }
   ],
   "source": [
    "top_n_tropes(10, \"Drama\")"
   ]
  },
  {
   "cell_type": "code",
   "execution_count": 4,
   "metadata": {},
   "outputs": [],
   "source": [
    "def trope_url(name: str) -> str:\n",
    "    return f\"https://tvtropes.org/pmwiki/pmwiki.php/Main/{name}\""
   ]
  },
  {
   "cell_type": "code",
   "execution_count": 5,
   "metadata": {},
   "outputs": [
    {
     "name": "stdout",
     "output_type": "stream",
     "text": [
      "https://tvtropes.org/pmwiki/pmwiki.php/Main/RunningGag\n"
     ]
    }
   ],
   "source": [
    "print(trope_url(\"RunningGag\"))"
   ]
  },
  {
   "cell_type": "markdown",
   "metadata": {},
   "source": [
    "![example.png](img/example.png)"
   ]
  },
  {
   "cell_type": "code",
   "execution_count": null,
   "metadata": {},
   "outputs": [],
   "source": []
  }
 ],
 "metadata": {
  "kernelspec": {
   "display_name": "Python 3",
   "language": "python",
   "name": "python3"
  },
  "language_info": {
   "codemirror_mode": {
    "name": "ipython",
    "version": 3
   },
   "file_extension": ".py",
   "mimetype": "text/x-python",
   "name": "python",
   "nbconvert_exporter": "python",
   "pygments_lexer": "ipython3",
   "version": "3.7.6"
  }
 },
 "nbformat": 4,
 "nbformat_minor": 4
}
